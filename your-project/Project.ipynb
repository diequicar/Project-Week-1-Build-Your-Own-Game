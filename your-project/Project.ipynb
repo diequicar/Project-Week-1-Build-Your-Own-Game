{
 "cells": [
  {
   "cell_type": "code",
   "execution_count": 16,
   "metadata": {},
   "outputs": [
    {
     "name": "stdout",
     "output_type": "stream",
     "text": [
      "['Nombre', 'Edad', 'Hobby', 'Fun Fact\\nEduardo', '23', 'Fútbol', 'Futbolista Frustrado\\nDaniel', '23', 'Tocar Batería', 'Tiene Mota pero no vende\\nMiguel', '29', 'Correr', 'No toma duchas calientes\\nBrisa', '31', 'Pasear al perro', 'Conoce cinco idiomas\\nRodrigo', '26', 'Jugar Tennis', 'El Mezcalero\\nJhoan', '28', 'Escuchar Música', 'Se baña solamente con agua fría\\nVíctor', '33', 'Juegos de Mesa', 'No terminó la Universidad\\nJorge', '27', 'Aprender idiomas', 'Miedo a los animales\\nEnrique', '23', 'Patinar', 'Adicto al pan dulce\\nPatricia', '26', 'Gimnasio', 'Politóloga queriendo programar\\nPonce', '25', 'Artes Marciales', 'Artes Marciales\\nFernando', '33', 'Videojuegos', 'Videojuegos\\nEmilio', '24', 'Ver deportes', 'Filósofo queriendo programar\\nPaola', '32', 'Jardinería', 'Aprendiendo Japonés\\nDiego', '24', 'Videojuegos', 'La oveja negra de la familia\\nJosué', '26', 'Caminar', 'Mordido por un murciélago\\nUlises', '25', 'Rugby', 'Colecciona Tazas feas\\nGustavo', '29', 'Videojuegos', 'Usa chanclas\\nRodolfo', '30', 'natación', 'Futbolista Frustrado\\nLuis', '26', 'Fútbol', 'Reprobó artes en el último grado\\nAlejandro', '27', 'Atletismo', 'Cinta Negra en Tae Kwon Do\\n']\n"
     ]
    }
   ],
   "source": [
    "import pandas as pd\n",
    "import os\n",
    "\n",
    "def get_data(doc_name):\n",
    "    doc = open(doc_name,\"r\")\n",
    "    valores = doc.read()\n",
    "    #data = pd.concat(valores, axis=0)\n",
    "    #print(valores)\n",
    "    compis_list = valores.split(\";\")\n",
    "    compis_new_list = [compi for compi]\n",
    "    print(compis_dict)\n",
    "    \n",
    "get_data(\"./DA-IRONHACK-2019-COMPAÑEROS.csv\")"
   ]
  }
 ],
 "metadata": {
  "kernelspec": {
   "display_name": "Python 3",
   "language": "python",
   "name": "python3"
  },
  "language_info": {
   "codemirror_mode": {
    "name": "ipython",
    "version": 3
   },
   "file_extension": ".py",
   "mimetype": "text/x-python",
   "name": "python",
   "nbconvert_exporter": "python",
   "pygments_lexer": "ipython3",
   "version": "3.7.3"
  }
 },
 "nbformat": 4,
 "nbformat_minor": 2
}
