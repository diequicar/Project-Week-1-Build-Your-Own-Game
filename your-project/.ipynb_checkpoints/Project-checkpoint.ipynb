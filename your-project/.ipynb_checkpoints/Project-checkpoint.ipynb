{
 "cells": [
  {
   "cell_type": "code",
   "execution_count": 14,
   "metadata": {},
   "outputs": [
    {
     "name": "stdout",
     "output_type": "stream",
     "text": [
      "Nombre;Edad;Hobby;Fun Fact\n",
      "Eduardo;23;Fútbol;Futbolista Frustrado\n",
      "Daniel;23;Tocar Batería;Tiene Mota pero no vende\n",
      "Miguel;29;Correr;No toma duchas calientes\n",
      "Brisa;31;Pasear al perro;Conoce cinco idiomas\n",
      "Rodrigo;26;Jugar Tennis;El Mezcalero\n",
      "Jhoan;28;Escuchar Música;Se baña solamente con agua fría\n",
      "Víctor;33;Juegos de Mesa;No terminó la Universidad\n",
      "Jorge;27;Aprender idiomas;Miedo a los animales\n",
      "Enrique;23;Patinar;Adicto al pan dulce\n",
      "Patricia;26;Gimnasio;Politóloga queriendo programar\n",
      "Ponce;25;Artes Marciales;Artes Marciales\n",
      "Fernando;33;Videojuegos;Videojuegos\n",
      "Emilio;24;Ver deportes;Filósofo queriendo programar\n",
      "Paola;32;Jardinería;Aprendiendo Japonés\n",
      "Diego;24;Videojuegos;La oveja negra de la familia\n",
      "Josué;26;Caminar;Mordido por un murciélago\n",
      "Ulises;25;Rugby;Colecciona Tazas feas\n",
      "Gustavo;29;Videojuegos;Usa chanclas\n",
      "Rodolfo;30;natación;Futbolista Frustrado\n",
      "Luis;26;Fútbol;Reprobó artes en el último grado\n",
      "Alejandro;27;Atletismo;Cinta Negra en Tae Kwon Do\n",
      "\n"
     ]
    }
   ],
   "source": [
    "import pandas as pd\n",
    "import os\n",
    "\n",
    "def get_data(doc_name):\n",
    "    doc = open(doc_name,\"r\")\n",
    "    valores = doc.read()\n",
    "    #data = pd.concat(valores, axis=0)\n",
    "    print(valores)\n",
    "    compis_dict = \n",
    "    \n",
    "get_data(\"./DA-IRONHACK-2019-COMPAÑEROS.csv\")"
   ]
  }
 ],
 "metadata": {
  "kernelspec": {
   "display_name": "Python 3",
   "language": "python",
   "name": "python3"
  },
  "language_info": {
   "codemirror_mode": {
    "name": "ipython",
    "version": 3
   },
   "file_extension": ".py",
   "mimetype": "text/x-python",
   "name": "python",
   "nbconvert_exporter": "python",
   "pygments_lexer": "ipython3",
   "version": "3.7.3"
  }
 },
 "nbformat": 4,
 "nbformat_minor": 2
}
